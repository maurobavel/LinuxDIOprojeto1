{
  "cells": [
    {
      "cell_type": "markdown",
      "metadata": {
        "id": "view-in-github",
        "colab_type": "text"
      },
      "source": [
        "<a href=\"https://colab.research.google.com/github/maurobavel/LinuxDIOprojeto1/blob/main/Trabajo_Programa%C3%A7%C3%A3o_em_Python_Mayo_2025.ipynb\" target=\"_parent\"><img src=\"https://colab.research.google.com/assets/colab-badge.svg\" alt=\"Open In Colab\"/></a>"
      ]
    },
    {
      "cell_type": "code",
      "source": [
        "#Exercio 1 hecho\n",
        "numero1 = int(input(\"coloca el primer número: \"))\n",
        "numero2 = int(input(\"coloca el segundo número: \"))\n",
        "soma = (numero1 + numero2)\n",
        "if soma > 15:\n",
        "  print (\"tu número fue mayor de 15\")\n",
        "else:\n",
        "  print (\"tu número no es mayor de 15\")"
      ],
      "metadata": {
        "id": "5saUQ7h-XWZk",
        "outputId": "197cbea0-3305-4189-8abf-39809af4e318",
        "colab": {
          "base_uri": "https://localhost:8080/"
        }
      },
      "execution_count": null,
      "outputs": [
        {
          "output_type": "stream",
          "name": "stdout",
          "text": [
            "coloca el primer número: 3\n",
            "coloca el segundo número: 3\n",
            "tu número no es mayor de 15\n"
          ]
        }
      ]
    },
    {
      "cell_type": "code",
      "source": [
        "#Exercicio 2 hecho\n",
        "numero = int(input(\"coloca un número positivo o negativo: \"))\n",
        "\n",
        "if numero > 0:\n",
        "  print(\"tu número es negativo\")\n",
        "elif numero == 0:\n",
        "  print(\"tu número es cero\")\n",
        "else:\n",
        "  print(\"tu número es negativo\")"
      ],
      "metadata": {
        "id": "iYlYI78HYq0k",
        "outputId": "b8ae1ecf-ab56-4f9f-cb3e-290f8499b821",
        "colab": {
          "base_uri": "https://localhost:8080/"
        }
      },
      "execution_count": null,
      "outputs": [
        {
          "output_type": "stream",
          "name": "stdout",
          "text": [
            "coloca un número positivo o negativo: -9\n",
            "tu número es negativo\n"
          ]
        }
      ]
    },
    {
      "cell_type": "code",
      "source": [
        "#exercicio 3 hecho\n",
        "idade = int(input(\"Coloca tu edad: \"))\n",
        "if idade >=18:\n",
        "  print(\"tú eres mayor de edad\")\n",
        "else:\n",
        "  print (\"tú eres menor de edad\")"
      ],
      "metadata": {
        "id": "yyRxdAc6Z2Mo",
        "outputId": "29409958-54d0-4516-ea0f-940e8909eea7",
        "colab": {
          "base_uri": "https://localhost:8080/"
        }
      },
      "execution_count": null,
      "outputs": [
        {
          "output_type": "stream",
          "name": "stdout",
          "text": [
            "Coloca tu edad: 13\n",
            "tú eres menor de edad\n"
          ]
        }
      ]
    },
    {
      "cell_type": "code",
      "source": [
        "#exercicio 4 hecho\n",
        "temperatura_atual = int(input(\"Coloca la temperatura actual \"))\n",
        "if temperatura_atual >= 25:\n",
        "  print(\"la temperatura actual es cálido\")\n",
        "elif temperatura_atual <15:\n",
        "  print (\"la temperatura actual es fria\")\n",
        "else:\n",
        "  print (\"la temperatura actual es moderada\")"
      ],
      "metadata": {
        "id": "-BTPrmDzaMz6",
        "outputId": "ce288144-0076-415a-d19a-c21319f39b8b",
        "colab": {
          "base_uri": "https://localhost:8080/"
        }
      },
      "execution_count": null,
      "outputs": [
        {
          "output_type": "stream",
          "name": "stdout",
          "text": [
            "Coloca la temperatura actual 45\n",
            "la temperatura actual es cálido\n"
          ]
        }
      ]
    },
    {
      "cell_type": "code",
      "source": [
        "#exercicio 5 hecho\n",
        "numero1 = int(input(\"colcoa el primer número: \"))\n",
        "numero2 = int(input(\"coloca el segundo número: \"))\n",
        "if numero1 > numero2:\n",
        "  print(\"el primer número es mayor que el segundo número\")\n",
        "elif numero1 < numero2:\n",
        "  print (\"el primer número es menor que el segundo número\")\n",
        "else:\n",
        "  print(\"los dos números son iguales\")"
      ],
      "metadata": {
        "id": "IvQEEMytbiop",
        "outputId": "186c5fbc-9bea-4187-c55d-ae3163abdd67",
        "colab": {
          "base_uri": "https://localhost:8080/"
        }
      },
      "execution_count": null,
      "outputs": [
        {
          "output_type": "stream",
          "name": "stdout",
          "text": [
            "colcoa el primer número: 3\n",
            "coloca el segundo número: 2\n",
            "el primer número es mayor que el segundo número\n"
          ]
        }
      ]
    },
    {
      "cell_type": "code",
      "source": [
        "#exercicio 6 hecho\n",
        "import getpass\n",
        "senhaFornecida = getpass.getpass(\"Coloca tu contraseña: \")\n",
        "12\n",
        "senhaCadastrada = \"1234\"\n",
        "if senhaFornecida == senhaCadastrada:\n",
        "  print(\"ACESSO PERMITIDO\")\n",
        "else:\n",
        "  print(\"ACESSO NEGADO\")"
      ],
      "metadata": {
        "id": "5RLIZ1tUcP1v",
        "colab": {
          "base_uri": "https://localhost:8080/"
        },
        "outputId": "d429bb7e-9454-41a3-d250-ebcc45de4611"
      },
      "execution_count": null,
      "outputs": [
        {
          "output_type": "stream",
          "name": "stdout",
          "text": [
            "Coloca tu contraseña: ··········\n",
            "ACESSO NEGADO\n"
          ]
        }
      ]
    },
    {
      "cell_type": "code",
      "source": [
        "#exercicio 7 hecho\n",
        "notaAluno1 = float(input(\"coloca tu primera calificación: \"))\n",
        "notaAluno2 = float(input(\"Coloca tu segunda calificación: \"))\n",
        "\n",
        "mediaAluno = (notaAluno1 + notaAluno2) / 2\n",
        "\n",
        "if mediaAluno >= 7:\n",
        "  print(\"Fuiste aprobado\")\n",
        "elif mediaAluno < 5:\n",
        "  print(\"has sido reprobado\")\n",
        "else:\n",
        "  print(\"tendrás que hacer un examen\")"
      ],
      "metadata": {
        "id": "xd7rxVqycrYm"
      },
      "execution_count": null,
      "outputs": []
    },
    {
      "cell_type": "code",
      "source": [
        "#exercicio 8 hecho\n",
        "marcacaoTime1 = int(input(\"Coloca cuantos goles tiene el equipo 1: \"))\n",
        "marcacaoTime2 = int(input(\"Coloca cuantos goles tiene el equipo 2: \"))\n",
        "if marcacaoTime1 > marcacaoTime2:\n",
        "  print(\"El equipo 1 ha ganado\")\n",
        "elif marcacaoTime2 > marcacaoTime1:\n",
        "  print(\"El equipo 2 ha ganado\")\n",
        "else:\n",
        "  print(\"Los dos equipos han empatado\")"
      ],
      "metadata": {
        "id": "e4nRgGMId_f1",
        "outputId": "86b03e73-ea8f-430c-b593-9a66dc223919",
        "colab": {
          "base_uri": "https://localhost:8080/"
        }
      },
      "execution_count": null,
      "outputs": [
        {
          "output_type": "stream",
          "name": "stdout",
          "text": [
            "Coloca cuantos goles tiene el equipo 1: 6\n",
            "Coloca cuantos goles tiene el equipo 2: 5\n",
            "El equipo 1 ha ganado\n"
          ]
        }
      ]
    },
    {
      "cell_type": "code",
      "source": [
        "time1 = input(\"coloque o nome do primero time: \")\n",
        "time2 = input(\"coloque o nome do segundo time: \")\n",
        "\n",
        "gols_time1 = input(f\"Coloque a quantidade de gois do {time1}: \")\n",
        "gols_time2 = input(f\"Coloque a quantidade de gois do {time2}: \")\n",
        "\n",
        "if gols_time1 > gols_time2:\n",
        "  print(f\"o time {time1}foi vitorioso\")\n",
        "elif gols_time2 > gols_time1:\n",
        "  print(f\"o time {time2} foi vitorioso\")\n",
        "else:\n",
        "  print(f\"o time {time1} e {time2} ficaram empatados\")\n"
      ],
      "metadata": {
        "id": "HOpZb-snqFt5"
      },
      "execution_count": null,
      "outputs": []
    },
    {
      "cell_type": "code",
      "source": [
        "#exercicio 9 hecho\n",
        "turnoAluno = input (\"Coloca en qué turno estudias: Matutino (M), Vespertino (V) o Nocturno (N): \").upper()\n",
        "if turnoAluno == \"M\":\n",
        "  print(\"Buenos dias!\")\n",
        "elif turnoAluno == \"V\":\n",
        "  print(\"Buenas tardes!\")\n",
        "elif turnoAluno == \"N\":\n",
        "  print(\"Buenas noches!\")\n",
        "else:\n",
        "  print(\"No reconozco ese turno\")"
      ],
      "metadata": {
        "id": "3u6khihoe6eW",
        "outputId": "5aa8bb79-ae7c-4bb9-b79f-87346092d595",
        "colab": {
          "base_uri": "https://localhost:8080/"
        }
      },
      "execution_count": null,
      "outputs": [
        {
          "output_type": "stream",
          "name": "stdout",
          "text": [
            "Coloca en qué turno estudias: Matutino (M), Vespertino (V) o Nocturno (N): N\n",
            "Buenas noches!\n"
          ]
        }
      ]
    },
    {
      "cell_type": "code",
      "source": [
        "#Exercicio  10 hecho\n",
        "idadeUsuario = int(input(\"Coloca tu edad: \"))\n",
        "if idadeUsuario <= 11:\n",
        "  print(\"Niño\")\n",
        "elif idadeUsuario <=18:\n",
        "  print(\"Adolescente\")\n",
        "elif idadeUsuario <=24:\n",
        "  print (\"Joven\")\n",
        "elif idadeUsuario <=40:\n",
        "  print (\"Adulto\")\n",
        "elif idadeUsuario <= 60:\n",
        "  print (\"Edad Media\")\n",
        "else:\n",
        "  print(\"Viejo para caramba\")"
      ],
      "metadata": {
        "id": "b6ds_4BVgEB7",
        "outputId": "1460c722-1e7c-457c-ba1a-b60e4d056a2d",
        "colab": {
          "base_uri": "https://localhost:8080/"
        }
      },
      "execution_count": null,
      "outputs": [
        {
          "output_type": "stream",
          "name": "stdout",
          "text": [
            "Coloca tu edad: 80\n",
            "Viejo para caramba\n"
          ]
        }
      ]
    },
    {
      "cell_type": "code",
      "source": [
        "#Exercicio 11 hecho\n",
        "salarioTrabalhador = float(input(\"Coloca tu salario actual: R$ \"))\n",
        "if salarioTrabalhador <= 280.00:\n",
        "  salarioNovoTrabalhador = (salarioTrabalhador + (salarioTrabalhador / 100 *20))\n",
        "  print(f\"Tu salario original es de \",{salarioTrabalhador},\", Con un 20% aplicado, y un aumento de\" ,{salarioTrabalhador / 100 *20}, \". Teniendo un total de \",{salarioNovoTrabalhador})\n",
        "elif salarioTrabalhador <= 700.00:\n",
        "  salarioNovoTrabalhador = (salarioTrabalhador + (salarioTrabalhador / 100 *15))\n",
        "  print(f\"Tu salario original es de \",{salarioTrabalhador},\", Con un 15% aplicado, y un aumento de\" ,{salarioTrabalhador / 100 *15}, \". Teniendo un total de \",{salarioNovoTrabalhador})\n",
        "elif salarioTrabalhador <= 1500.00:\n",
        "  salarioNovoTrabalhador = (salarioTrabalhador + (salarioTrabalhador / 100 *10))\n",
        "  print(f\"Tu salario original es de \",{salarioTrabalhador},\", Con un 10% aplicado, y un aumento de\" ,{salarioTrabalhador / 100 *10}, \". Teniendo un total de \",{salarioNovoTrabalhador})\n",
        "else:\n",
        "  salarioNovoTrabalhador = (salarioTrabalhador + (salarioTrabalhador / 100 *5))\n",
        "  print(f\"Tu salario original es de \",{salarioTrabalhador},\", Con un 5% aplicado, y un aumento de\" ,{salarioTrabalhador / 100 *5}, \". Teniendo un total de \",{salarioNovoTrabalhador})\n",
        "\n",
        "\n"
      ],
      "metadata": {
        "id": "664H6JCahlFs",
        "colab": {
          "base_uri": "https://localhost:8080/"
        },
        "outputId": "f192e297-af3e-420f-ca42-ea3ab10a4ced"
      },
      "execution_count": null,
      "outputs": [
        {
          "output_type": "stream",
          "name": "stdout",
          "text": [
            "Coloca tu salario actual: 5000\n",
            "Tu salario original es de  {5000.0} , Con un 5% aplicado, y un aumento de {250.0} . Teniendo un total de  {5250.0}\n"
          ]
        }
      ]
    },
    {
      "cell_type": "code",
      "source": [
        "#Exercicio 12 hecho\n",
        "numeroDoDia = int(input(\"coloca en qué día de la semana te encuentras: \"))\n",
        "if numeroDoDia == 1:\n",
        "  print(\"Hoy es lunes\")\n",
        "elif numeroDoDia == 2:\n",
        "  print(\"Hoy es martes\")\n",
        "elif numeroDoDia == 3:\n",
        "  print (\"Hoy es miércoles\")\n",
        "elif numeroDoDia == 4:\n",
        "  print(\"Hoy es jueves\")\n",
        "elif numeroDoDia == 5:\n",
        "  print(\"Hoy es viernes\")\n",
        "elif numeroDoDia == 6:\n",
        "  print(\"hoy es sábado\")\n",
        "elif numeroDoDia == 7:\n",
        "  print(\"hoy es domingo\")\n",
        "else:\n",
        "  print(\"Lo que escribiste no es válido\")\n"
      ],
      "metadata": {
        "id": "OQcJrAlYkU-V",
        "colab": {
          "base_uri": "https://localhost:8080/"
        },
        "outputId": "76e918fd-d0da-46df-a415-b3af3199b8fb"
      },
      "execution_count": null,
      "outputs": [
        {
          "output_type": "stream",
          "name": "stdout",
          "text": [
            "coloca en qué día de la semana te encuentras: 7\n",
            "hoy es domingo\n"
          ]
        }
      ]
    },
    {
      "cell_type": "code",
      "source": [
        "#exercicio 13 hecho\n",
        "temperaturaUsuario = int(input(\"Coloca la temperatura que deseas convertir: \"))\n",
        "tipoConversión = int(input(\"Si deseas pasar de Celsius para Farenhait presiona [1], si deseas pasar de Farenheit para Celcius presiona [2]: \"))\n",
        "if tipoConversión == 2:\n",
        "  temperaturaConvertida = (temperaturaUsuario - 32) / 1.8\n",
        "  print(f\"La temperatura en Celcius es \", {temperaturaConvertida})\n",
        "elif tipoConversión == 1:\n",
        "  temperaturaConvertida = (temperaturaUsuario *59) + 32\n",
        "  print(f\"La temperatura en Farenheit es: {temperaturaConvertida}\")\n",
        "else:\n",
        "  print(\"Valores inválidos\")"
      ],
      "metadata": {
        "colab": {
          "base_uri": "https://localhost:8080/"
        },
        "id": "0TcWKKFvEK82",
        "outputId": "ce93a785-a1f0-49b1-af8c-a1ce211748fc"
      },
      "execution_count": null,
      "outputs": [
        {
          "output_type": "stream",
          "name": "stdout",
          "text": [
            "Coloca la temperatura que deseas convertir: 1234\n",
            "Si deseas pasar de Celsius para Farenhait presiona [1], si deseas pasar de Farenheit para Celcius presiona [2]: 1\n",
            "La temperatura en Farenheit es  {72838}\n"
          ]
        }
      ]
    },
    {
      "cell_type": "code",
      "source": [
        "#Exercicio 14 hecho\n",
        "idadeUsuario = int(input(\"Coloca tu edad: \"))\n",
        "if idadeUsuario <= 16:\n",
        "  print(\"No puedes votar en Brasil\")\n",
        "elif idadeUsuario <=18:\n",
        "  print(\"Tu voto es opcional en Brasil\")\n",
        "elif idadeUsuario <=64:\n",
        "  print(\"Tu voto es obligatorio\")\n",
        "elif idadeUsuario >64:\n",
        "  print(\"Tu voto es opcional en Brasil\")\n",
        "else:\n",
        "  print(\"Valor inválido\")"
      ],
      "metadata": {
        "colab": {
          "base_uri": "https://localhost:8080/"
        },
        "id": "HmBxuAx1Iewo",
        "outputId": "b61ef0ca-5281-45d1-9e62-c1378b5ad81d"
      },
      "execution_count": null,
      "outputs": [
        {
          "output_type": "stream",
          "name": "stdout",
          "text": [
            "Coloca tu edad: 33\n",
            "Tu voto es obligatorio\n"
          ]
        }
      ]
    },
    {
      "cell_type": "code",
      "source": [
        "# Exercicio 15 e 16 hecho Minha versão\n",
        "pesquisaTelefonou = int(input(\"Telefonou para a vítima? SIM [1], NÂO [0]\"))\n",
        "pesquisaLocalDoCrime = int(input(\"Esteve no local do crime? SIM [1], NÂO [0]\"))\n",
        "pesquisaMoraPerto = int(input(\"Mora perto da vítima? SIM [1], NÂO [0]\"))\n",
        "pesquisaDivida = int(input(\"Devia para a vítima? SIM [1], NÂO [0]\"))\n",
        "pesquisaTrabalhouComVitima = int(input(\"Devia para a vítima? SIM [1], NÂO [0]\"))\n",
        "\n",
        "if pesquisaTelefonou + pesquisaLocalDoCrime + pesquisaMoraPerto + pesquisaDivida + pesquisaTrabalhouComVitima ==2:\n",
        "  print(\"Él es sospechoso\")\n",
        "elif pesquisaTelefonou + pesquisaLocalDoCrime + pesquisaMoraPerto + pesquisaDivida + pesquisaTrabalhouComVitima == 3 or pesquisaTelefonou + pesquisaLocalDoCrime + pesquisaMoraPerto + pesquisaDivida + pesquisaTrabalhouComVitima == 4:\n",
        "  print(\"Él es cómplice\")\n",
        "elif pesquisaTelefonou + pesquisaLocalDoCrime + pesquisaMoraPerto + pesquisaDivida + pesquisaTrabalhouComVitima == 5:\n",
        "  print (\"Él es el asesino\")\n",
        "else:\n",
        "  print(\"Él es inoscenete\")\n",
        "\n"
      ],
      "metadata": {
        "colab": {
          "base_uri": "https://localhost:8080/"
        },
        "id": "IDP3k6VMJebA",
        "outputId": "0abd1d9d-66f6-4b39-be95-9937fe290673"
      },
      "execution_count": null,
      "outputs": [
        {
          "output_type": "stream",
          "name": "stdout",
          "text": [
            "Telefonou para a vítima? SIM [1], NÂO [0]1\n",
            "Esteve no local do crime? SIM [1], NÂO [0]1\n",
            "Mora perto da vítima? SIM [1], NÂO [0]1\n",
            "Devia para a vítima? SIM [1], NÂO [0]0\n",
            "Devia para a vítima? SIM [1], NÂO [0]0\n",
            "Él es cómplice\n"
          ]
        }
      ]
    },
    {
      "cell_type": "code",
      "source": [],
      "metadata": {
        "id": "CXGljwb8FDhw"
      },
      "execution_count": null,
      "outputs": []
    },
    {
      "cell_type": "code",
      "source": [
        "#Excercicio 15 e 16 versão do profesor versão a\n",
        "respostas = 0\n",
        "\n",
        "print(\"Telefonou para a vítima? (s/n)\")\n",
        "resposta = input()\n",
        "if resposta ==\"s\":\n",
        "  resposta = resposta + 1\n",
        "\n",
        "print(\"Esteve no local do crime?: (s/n)\")\n",
        "resposta = input()\n",
        "if resposta == \"s\":\n",
        "  resposta = resposta + 1\n",
        "\n",
        "print(\"\")"
      ],
      "metadata": {
        "id": "Ulhs2BpFpkJ3"
      },
      "execution_count": null,
      "outputs": []
    },
    {
      "cell_type": "code",
      "source": [
        "resposta = 0\n",
        "\n",
        "if input(\"Telefonou para a vitima: sim/naõ\") == \"sim\":\n",
        "  resposta+=1\n",
        "if input(\"Esteve no local do crime: sim/não\") == \"sim\":\n",
        "  resposta+=1\n",
        "if input(\"Mora perto da vitima: sim/não\")== \"sim\":\n",
        "  resposta+=1\n",
        "if input(\"devia para a vitima: sim/não\" )== \"sim\":\n",
        "  resposta+=1\n",
        "if input(\"Já trabalhou com a vítmia: sim/não\") == \"sim\":\n",
        "  resposta +=1\n",
        "else:\n",
        "  print(\"Valores invalidos\")\n",
        "if resposta == 2:\n",
        "  print(\"Suspeita\")\n",
        "if resposta == 3 or resposta == 4:\n",
        "  print(\"Cúmplice\")\n",
        "if resposta == 5:\n",
        "  print(\"Assasino\")\n",
        "else:\n",
        "  print(\"inocente\")\n",
        "print(f\"el puntaje de complicidade {resposta}\")"
      ],
      "metadata": {
        "colab": {
          "base_uri": "https://localhost:8080/"
        },
        "id": "FBCsQTJmFgG-",
        "outputId": "2c890f9e-a24f-4163-8305-dbad94d1a652"
      },
      "execution_count": null,
      "outputs": [
        {
          "output_type": "stream",
          "name": "stdout",
          "text": [
            "Telefonou para a vitima: sim/naõsim\n",
            "Esteve no local do crime: sim/nãosim\n",
            "Mora perto da vitima: sim/nãosim\n",
            "devia para a vitima: sim/nãosim\n",
            "Já trabalhou com a vítmia: sim/nãosim\n",
            "Assasino\n",
            "el puntaje de complicidade 5\n"
          ]
        }
      ]
    },
    {
      "cell_type": "code",
      "source": [
        "precoArtigo1 = float(input(\"Coloca el precio del primer artículo: \"))\n",
        "precoArtigo2 = float(input(\"Coloca el precio del segundo artículo: \"))\n",
        "precoArtigo3 = float(input(\"Coloca el precio del tercer artículo: \"))\n",
        "\n",
        "if precoArtigo1 < precoArtigo2 and precoArtigo1 < precoArtigo3:\n",
        "  print (\"deberas de comprar el primer artículo\")\n",
        "if precoArtigo2 < precoArtigo1 and precoArtigo2 < precoArtigo3:\n",
        "  print (\"deberas de comprar el segundo artículo\")\n",
        "if precoArtigo3 < precoArtigo1 and precoArtigo3 < precoArtigo2:\n",
        "  print (\"deberás de comrpar el tercer artículo\")"
      ],
      "metadata": {
        "colab": {
          "base_uri": "https://localhost:8080/"
        },
        "id": "FSlcdxu4KqTs",
        "outputId": "dae1008b-3650-4124-fb4a-b023d452c0b0"
      },
      "execution_count": null,
      "outputs": [
        {
          "output_type": "stream",
          "name": "stdout",
          "text": [
            "Coloca el precio del primer artículo: 2\n",
            "Coloca el precio del segundo artículo: 3\n",
            "Coloca el precio del tercer artículo: 1\n",
            "deberás de comrpar el tercer artículo\n"
          ]
        }
      ]
    },
    {
      "cell_type": "code",
      "source": [
        "# faça um porgrama que verifique e mostre os núemros entre 1000 e 2000 (inclusive) que, queando divididos por 11 prodixa, restp igal 2\n",
        "\n",
        "for contador in range(1000, 1001):\n",
        "  if contador % 11== 2:\n",
        "    print(contador)"
      ],
      "metadata": {
        "id": "5cyTt8CkqOqL"
      },
      "execution_count": null,
      "outputs": []
    },
    {
      "cell_type": "code",
      "source": [
        "#faca unm programa que leia 5 números e informe a soma e a média dos números\n",
        "\n",
        "soma = 0 #Começa com 06\n",
        "\n",
        "for contador in range (5): #Repete 5 vezes\n",
        "  numero = float(input(\"digite um número: \")) # Lé o número de usuario\n",
        "  soma+=numero #soma o numero a variavel soma\n",
        "\n",
        "print(\"Soma: \", soma)# mostra o total da soma\n",
        "print(\"Média: \", soma /5) #Calcula e mostrsa a média (soma dividida por 5)"
      ],
      "metadata": {
        "colab": {
          "base_uri": "https://localhost:8080/"
        },
        "id": "yDKbR8VD1Xbb",
        "outputId": "f66fd05a-1b22-4bad-cde0-7c57c9f50fc3"
      },
      "execution_count": null,
      "outputs": [
        {
          "output_type": "stream",
          "name": "stdout",
          "text": [
            "digite um número: 345\n",
            "digite um número: 3\n",
            "digite um número: 234\n",
            "digite um número: 45\n",
            "digite um número: 5687\n",
            "Soma:  5687.0\n",
            "Média:  1137.4\n"
          ]
        }
      ]
    },
    {
      "cell_type": "code",
      "source": [
        "numero = int(input(\"Digite um numero para multiplicar: \")) #Lé o núemro\n",
        "\n",
        "for contador in range(0, 11):\n",
        "  resultado = numero * contador #Calcula a multiplicação\n",
        "  print(f\"{numero} x {contador} = {resultado}\")"
      ],
      "metadata": {
        "colab": {
          "base_uri": "https://localhost:8080/"
        },
        "id": "szOzQPJr6dRZ",
        "outputId": "8aca2e2a-5185-4dad-8ef7-1899507be000"
      },
      "execution_count": null,
      "outputs": [
        {
          "output_type": "stream",
          "name": "stdout",
          "text": [
            "Digite um numero para multiplicar: 435\n",
            "435 x 0 = 0\n",
            "435 x 1 = 435\n",
            "435 x 2 = 870\n",
            "435 x 3 = 1305\n",
            "435 x 4 = 1740\n",
            "435 x 5 = 2175\n",
            "435 x 6 = 2610\n",
            "435 x 7 = 3045\n",
            "435 x 8 = 3480\n",
            "435 x 9 = 3915\n",
            "435 x 10 = 4350\n"
          ]
        }
      ]
    },
    {
      "cell_type": "code",
      "source": [
        "#Faça um programa que mostre as tabuadas dos números de 1 a 10 usando láços de repetição\n",
        "for contador in range(1,11): #Começa o contador desde o número 1 ao 10\n",
        "  print (\"tabuada do\", contador) #\n",
        "  for i in range(1, 11):\n",
        "    print(contador, \"x\", i, \"=\", contador*i)\n",
        "  print()"
      ],
      "metadata": {
        "colab": {
          "base_uri": "https://localhost:8080/"
        },
        "id": "7qmmX3oc7Py0",
        "outputId": "d12ab7d1-0739-41e5-aaf3-59391c7d5672"
      },
      "execution_count": null,
      "outputs": [
        {
          "output_type": "stream",
          "name": "stdout",
          "text": [
            "tabuada do 1\n",
            "1 x 1 = 1\n",
            "1 x 2 = 2\n",
            "1 x 3 = 3\n",
            "1 x 4 = 4\n",
            "1 x 5 = 5\n",
            "1 x 6 = 6\n",
            "1 x 7 = 7\n",
            "1 x 8 = 8\n",
            "1 x 9 = 9\n",
            "1 x 10 = 10\n",
            "\n",
            "tabuada do 2\n",
            "2 x 1 = 2\n",
            "2 x 2 = 4\n",
            "2 x 3 = 6\n",
            "2 x 4 = 8\n",
            "2 x 5 = 10\n",
            "2 x 6 = 12\n",
            "2 x 7 = 14\n",
            "2 x 8 = 16\n",
            "2 x 9 = 18\n",
            "2 x 10 = 20\n",
            "\n",
            "tabuada do 3\n",
            "3 x 1 = 3\n",
            "3 x 2 = 6\n",
            "3 x 3 = 9\n",
            "3 x 4 = 12\n",
            "3 x 5 = 15\n",
            "3 x 6 = 18\n",
            "3 x 7 = 21\n",
            "3 x 8 = 24\n",
            "3 x 9 = 27\n",
            "3 x 10 = 30\n",
            "\n",
            "tabuada do 4\n",
            "4 x 1 = 4\n",
            "4 x 2 = 8\n",
            "4 x 3 = 12\n",
            "4 x 4 = 16\n",
            "4 x 5 = 20\n",
            "4 x 6 = 24\n",
            "4 x 7 = 28\n",
            "4 x 8 = 32\n",
            "4 x 9 = 36\n",
            "4 x 10 = 40\n",
            "\n",
            "tabuada do 5\n",
            "5 x 1 = 5\n",
            "5 x 2 = 10\n",
            "5 x 3 = 15\n",
            "5 x 4 = 20\n",
            "5 x 5 = 25\n",
            "5 x 6 = 30\n",
            "5 x 7 = 35\n",
            "5 x 8 = 40\n",
            "5 x 9 = 45\n",
            "5 x 10 = 50\n",
            "\n",
            "tabuada do 6\n",
            "6 x 1 = 6\n",
            "6 x 2 = 12\n",
            "6 x 3 = 18\n",
            "6 x 4 = 24\n",
            "6 x 5 = 30\n",
            "6 x 6 = 36\n",
            "6 x 7 = 42\n",
            "6 x 8 = 48\n",
            "6 x 9 = 54\n",
            "6 x 10 = 60\n",
            "\n",
            "tabuada do 7\n",
            "7 x 1 = 7\n",
            "7 x 2 = 14\n",
            "7 x 3 = 21\n",
            "7 x 4 = 28\n",
            "7 x 5 = 35\n",
            "7 x 6 = 42\n",
            "7 x 7 = 49\n",
            "7 x 8 = 56\n",
            "7 x 9 = 63\n",
            "7 x 10 = 70\n",
            "\n",
            "tabuada do 8\n",
            "8 x 1 = 8\n",
            "8 x 2 = 16\n",
            "8 x 3 = 24\n",
            "8 x 4 = 32\n",
            "8 x 5 = 40\n",
            "8 x 6 = 48\n",
            "8 x 7 = 56\n",
            "8 x 8 = 64\n",
            "8 x 9 = 72\n",
            "8 x 10 = 80\n",
            "\n",
            "tabuada do 9\n",
            "9 x 1 = 9\n",
            "9 x 2 = 18\n",
            "9 x 3 = 27\n",
            "9 x 4 = 36\n",
            "9 x 5 = 45\n",
            "9 x 6 = 54\n",
            "9 x 7 = 63\n",
            "9 x 8 = 72\n",
            "9 x 9 = 81\n",
            "9 x 10 = 90\n",
            "\n",
            "tabuada do 10\n",
            "10 x 1 = 10\n",
            "10 x 2 = 20\n",
            "10 x 3 = 30\n",
            "10 x 4 = 40\n",
            "10 x 5 = 50\n",
            "10 x 6 = 60\n",
            "10 x 7 = 70\n",
            "10 x 8 = 80\n",
            "10 x 9 = 90\n",
            "10 x 10 = 100\n",
            "\n"
          ]
        }
      ]
    },
    {
      "cell_type": "code",
      "source": [
        "#faca um programa que imprima na tela os níuermos de 1 a 20, um abaixo do outro. Depois modifique o programa paraa que ele mostre os números um ao lado do outro\n",
        "for contador in range(1, 21):\n",
        "  print(contador, end=\" \")"
      ],
      "metadata": {
        "colab": {
          "base_uri": "https://localhost:8080/"
        },
        "id": "_1HjSLrtKMQa",
        "outputId": "7cd1a429-3eff-4c12-9264-1b66f5abf826"
      },
      "execution_count": null,
      "outputs": [
        {
          "output_type": "stream",
          "name": "stdout",
          "text": [
            "1 2 3 4 5 6 7 8 9 10 11 12 13 14 15 16 17 18 19 20 "
          ]
        }
      ]
    },
    {
      "cell_type": "code",
      "source": [
        "#faça um programa que imprima na tela apenas os núiemros impares entre 1 e 50\n",
        "for contador in range(1,51, 2):# aquele 2 pode ser usado já que coincide de intervalo em pares\n",
        "    if contador %2 != 0:\n",
        "       print(contador)\n"
      ],
      "metadata": {
        "colab": {
          "base_uri": "https://localhost:8080/"
        },
        "id": "G6LmcM3kMDBA",
        "outputId": "e73cc7e7-a83d-42c8-e30e-9db5733beaff"
      },
      "execution_count": null,
      "outputs": [
        {
          "output_type": "stream",
          "name": "stdout",
          "text": [
            "1\n",
            "3\n",
            "5\n",
            "7\n",
            "9\n",
            "11\n",
            "13\n",
            "15\n",
            "17\n",
            "19\n",
            "21\n",
            "23\n",
            "25\n",
            "27\n",
            "29\n",
            "31\n",
            "33\n",
            "35\n",
            "37\n",
            "39\n",
            "41\n",
            "43\n",
            "45\n",
            "47\n",
            "49\n"
          ]
        }
      ]
    },
    {
      "cell_type": "code",
      "source": [
        "#Faça um programa que receba dois núermos interios e gere os números inteiros noi intervalo compreendido por eles\n",
        "numero1 = int(input(\"digite o primeiro número: \"))\n",
        "numero2 = int(input(\"digite o segundo número: \"))\n",
        "\n",
        "#verificar qual é o maior e o menor\n",
        "menor = min(numero1, numero2)\n",
        "maior = max(numero1, numero2)\n",
        "\n",
        "#Mostrar os números entre eles (Excluindo os prpios números)\n",
        "for i in range(menor +1, maior):\n",
        "  print(i)"
      ],
      "metadata": {
        "colab": {
          "base_uri": "https://localhost:8080/"
        },
        "id": "HDnGI9NZNiPm",
        "outputId": "936970a4-fd0f-4673-8c8b-e0920a95ef92"
      },
      "execution_count": null,
      "outputs": [
        {
          "output_type": "stream",
          "name": "stdout",
          "text": [
            "digite o primeiro número: 26\n",
            "digite o segundo número: 14\n",
            "15\n",
            "16\n",
            "17\n",
            "18\n",
            "19\n",
            "20\n",
            "21\n",
            "22\n",
            "23\n",
            "24\n",
            "25\n"
          ]
        }
      ]
    },
    {
      "cell_type": "code",
      "source": [
        "for i in range(100, 10):\n",
        "  print (i)"
      ],
      "metadata": {
        "id": "SUs6IYJlQQWn"
      },
      "execution_count": null,
      "outputs": []
    },
    {
      "cell_type": "code",
      "source": [
        "#uma loja deseja cadastrar 5 clientes e cerificar se o faturamento da loja foi superior a loja B\n",
        "\n",
        "faturamento = 0 #Começa zerado sem valer anda\n",
        "\n",
        "#Cadastro de 5 clientes\n",
        "for contador in range(1,6):\n",
        "  venda = float(input(f\"Difite o valor da compra do cliente {contador}: \"))\n",
        "  faturamento += venda #Atribui vendas na variavel faturamento\n",
        "\n",
        "#Verifica se o faturmaento superou 54 000\n",
        "if faturamento >54000:\n",
        "    diferenca = faturamento - 54000\n",
        "    print(f\"O faturamento da loja B em R$ {diferenca:.2f}\")\n",
        "else:\n",
        "  print (\"O faturamento NÂO superou a loja B.\")"
      ],
      "metadata": {
        "colab": {
          "base_uri": "https://localhost:8080/"
        },
        "id": "WblfyREmSRWK",
        "outputId": "6fea6ec2-51a7-4d69-9fb9-68d468219c49"
      },
      "execution_count": null,
      "outputs": [
        {
          "output_type": "stream",
          "name": "stdout",
          "text": [
            "Difite o valor da compra do cliente 1: 54500\n",
            "Difite o valor da compra do cliente 2: 1234\n",
            "Difite o valor da compra do cliente 3: 12134556\n",
            "Difite o valor da compra do cliente 4: 1233\n",
            "Difite o valor da compra do cliente 5: 345666\n",
            "O faturamento da loja B em R$ 12483189.00\n"
          ]
        }
      ]
    },
    {
      "cell_type": "code",
      "source": [
        "#Crea un programa que te pregunte 10 veces un número cualquiera, y entonces cuente cuántos números de los que se cargaron fueron pares y cuantos fueron impares:\n",
        "pares = 0\n",
        "impares = 0\n",
        "\n",
        "for contador in range(10):\n",
        "  numeros = int(input(\"Número: \"))\n",
        "  if numeros % 2 == 0:\n",
        "     pares +=1\n",
        "  else:\n",
        "    impares +=1\n",
        "print(\"Pares: \", pares)\n",
        "print(\"Impares: \",impares)"
      ],
      "metadata": {
        "colab": {
          "base_uri": "https://localhost:8080/"
        },
        "id": "wNyFq1jUwtZa",
        "outputId": "6535a07b-7002-4439-c3d4-1262742a2934"
      },
      "execution_count": 3,
      "outputs": [
        {
          "output_type": "stream",
          "name": "stdout",
          "text": [
            "Número: 2\n",
            "Número: 5\n",
            "Número: 7\n",
            "Número: 8\n",
            "Número: 1234\n",
            "Número: 56\n",
            "Número: 34\n",
            "Número: 698709\n",
            "Número: 34\n",
            "Número: 12\n",
            "Pares:  7\n",
            "Impares:  3\n"
          ]
        }
      ]
    },
    {
      "cell_type": "code",
      "source": [
        "#um funcionario de uma empresa recebe um aumento salarial analmente: Sabe=´se que: Esse funcionario foi contratado em 1995, com salario inicial de R$1000;\n",
        "\n",
        "salario = float(input(\"Digite o salario inicial: \"))\n",
        "#Definiar o primeiro aumento salarial de 1,5\n",
        "aumento= 1.5 / 100\n",
        "\n",
        "#loop que vai do ano 1996 até 2025\n",
        "for ano in range(1996, 2026):\n",
        "  #Aplica o aumento no salario\n",
        "  salario += salario * aumento\n",
        "\n",
        "  #Mostra o salário atualizado\n",
        "  print(f\"Ano {ano}: Salario = R$ {salario:.2f}\")\n",
        "\n",
        "  #Dobra o percentual de aumento para o proximo ano\n",
        "  aumento*=2\n",
        "\n",
        "#Mostra o salario final em 2025\n",
        "print(f\"\\nSalário atual em 2025: R${salario:.2f}\")"
      ],
      "metadata": {
        "colab": {
          "base_uri": "https://localhost:8080/"
        },
        "id": "CU3v5nX8zbwf",
        "outputId": "f395c687-115b-40b5-990b-6acd78f7c116"
      },
      "execution_count": 13,
      "outputs": [
        {
          "output_type": "stream",
          "name": "stdout",
          "text": [
            "Digite o salario inicial: 1000\n",
            "Ano 1996: Salario = R$ 1015.00\n",
            "Ano 1997: Salario = R$ 1045.45\n",
            "Ano 1998: Salario = R$ 1108.18\n",
            "Ano 1999: Salario = R$ 1241.16\n",
            "Ano 2000: Salario = R$ 1539.04\n",
            "Ano 2001: Salario = R$ 2277.77\n",
            "Ano 2002: Salario = R$ 4464.44\n",
            "Ano 2003: Salario = R$ 13036.15\n",
            "Ano 2004: Salario = R$ 63094.98\n",
            "Ano 2005: Salario = R$ 547664.47\n",
            "Ano 2006: Salario = R$ 8959790.69\n",
            "Ano 2007: Salario = R$ 284204560.82\n",
            "Ano 2008: Salario = R$ 17745732777.31\n",
            "Ano 2009: Salario = R$ 2198341376453.00\n",
            "Ano 2010: Salario = R$ 542462718053542.19\n",
            "Ano 2011: Salario = R$ 267173737895730592.00\n",
            "Ano 2012: Salario = R$ 262909645038914699264.00\n",
            "Ano 2013: Salario = R$ 517164304563148312018944.00\n",
            "Ano 2014: Salario = R$ 2034089956135592355082272768.00\n",
            "Ano 2015: Salario = R$ 15998768413792396533288497315840.00\n",
            "Ano 2016: Salario = R$ 251654867592325433880764780338216960.00\n",
            "Ano 2017: Salario = R$ 7916629288082299627197923665876621459456.00\n",
            "Ano 2018: Salario = R$ 498079164972099231500831130952899538079186944.00\n",
            "Ano 2019: Salario = R$ 62673361097939047128369603216519565598853735383040.00\n",
            "Ano 2020: Salario = R$ 15772330422152904879813669471476743110304999867596931072.00\n",
            "Ano 2021: Salario = R$ 7938489601805336068635772326082728232002794894148337456381952.00\n",
            "Ano 2022: Salario = R$ 7991153224284128798258150233991349427319130527005635733005380091904.00\n",
            "Ano 2023: Salario = R$ 16088324439102575290435630651444932919564627342328716299616484873371385856.00\n",
            "Ano 2024: Salario = R$ 64780166694621097717661435651754373841996112945846734312267054465902060362530816.00\n",
            "Ano 2025: Salario = R$ 521678872372965470535091993624533602402702219041505716918642386185896096032600478449664.00\n",
            "\n",
            "Salário atual em 2025: R$521678872372965470535091993624533602402702219041505716918642386185896096032600478449664.00\n"
          ]
        }
      ]
    },
    {
      "cell_type": "code",
      "source": [
        "#Faça um programa que receba a idade de 15 pessoas e que calcule e mostre:\n",
        "# a . A quantidade de pessoas em cada faiza etária;\n",
        "#b. A porcentagem de pessoas na primeuira e na última faixa etária, com relação ao total de pessoas:\n",
        "# Até 15 anos  //  16-30  // 31-45  // 46-60  //  60+\n",
        "\n",
        "ate_15=0\n",
        "de_16_a_30 = 0\n",
        "de_31_a_45 = 0\n",
        "de_46_a_60 = 0\n",
        "acima_61 = 0\n",
        "\n",
        "#Loop para receber a idade de 15 pessoas\n",
        "for contador in range(15):\n",
        "  idade= int(input(\"Idade: \"))  #Recebe a idade do usuario\n",
        "\n",
        "  #verificar em qual faixa a idade se encaixa e incrementa o contador\n",
        "  if idade <= 15:\n",
        "    ate_15 += 1\n",
        "  elif idade <= 30:\n",
        "    de_16_a_30 +=1\n",
        "  elif idade <= 45:\n",
        "    de_31_a_45 +=1\n",
        "  elif idade <= 60:\n",
        "    de_46_a_60 +=1\n",
        "  else:\n",
        "    acima_61 +=1\n",
        "\n",
        "#Mostra a quantidade de pessoas em acad faixa etária\n",
        "print(\"Até 15 anos: \", ate_15)\n",
        "print(\"De 16 a 30 anos: \", de_16_a_30)\n",
        "print(\"De 31 a 45: \", de_31_a_45)\n",
        "print(\"De 46 a 60: \", de_46_a_60)\n",
        "print(\"Mais de 60: \", acima_61)\n",
        "\n",
        "#Calcular e mostrar a prortcentagem da primeiura e ultima faixa em relação ao total\n",
        "\n",
        "print(f\"taça de 15 anos: {(ate_15/15) *100:.1f}%\")\n",
        "print(f\"taça de 16 a 30 anos: {(de_16_a_30/15) *100:.1f}%\")\n",
        "print(f\"taça de 31 a 45 anos: {(de_31_a_45/15) *100:.1f}%\")\n",
        "print(f\"taça de 46 a 60 anos: {(de_46_a_60/15) *100:.1f}%\")\n",
        "print(f\"taça de 60 anos: {(acima_61/15) *100:.1f}%\")"
      ],
      "metadata": {
        "colab": {
          "base_uri": "https://localhost:8080/"
        },
        "id": "FCK1_89764BK",
        "outputId": "df480e7a-2ecd-41f8-a365-e744043643a8"
      },
      "execution_count": 16,
      "outputs": [
        {
          "output_type": "stream",
          "name": "stdout",
          "text": [
            "Idade: 23\n",
            "Idade: 456\n",
            "Idade: 12\n",
            "Idade: 0\n",
            "Idade: 567\n",
            "Idade: 3\n",
            "Idade: 6\n",
            "Idade: 45\n",
            "Idade: 35\n",
            "Idade: 24\n",
            "Idade: 57\n",
            "Idade: 12\n",
            "Idade: 67\n",
            "Idade: 13\n",
            "Idade: 24\n",
            "Até 15 anos:  6\n",
            "De 16 a 30 anos:  3\n",
            "De 31 a 45:  2\n",
            "De 46 a 60:  1\n",
            "Mais de 60:  3\n",
            "taça de 15 anos: 40.0%\n",
            "taça de 16 a 30 anos: 20.0%\n",
            "taça de 31 a 45 anos: 13.3%\n",
            "taça de 46 a 60 anos: 6.7%\n",
            "taça de 60 anos: 20.0%\n"
          ]
        }
      ]
    },
    {
      "cell_type": "code",
      "source": [
        "#Exercicios Lasso for\n",
        "\n",
        "#Exercicio 1. Um engenheiro precisa contar os tijolos empilhados de 1 até 100. Crie um programa que mostre essa contagem.\n",
        "\n",
        "tijolo=1\n",
        "\n",
        "for contador in range (1,101):\n",
        "  contandoTijolo = 1\n",
        "  print(\"Número de tijolo: \", tijolo)\n",
        "  tijolo += 1\n",
        ""
      ],
      "metadata": {
        "colab": {
          "base_uri": "https://localhost:8080/"
        },
        "id": "NQ6xdMQ87NHV",
        "outputId": "8c420fb4-c141-4b54-e955-dd3ea0c21e0f"
      },
      "execution_count": 22,
      "outputs": [
        {
          "output_type": "stream",
          "name": "stdout",
          "text": [
            "Número de tijolo:  1\n",
            "Número de tijolo:  2\n",
            "Número de tijolo:  3\n",
            "Número de tijolo:  4\n",
            "Número de tijolo:  5\n",
            "Número de tijolo:  6\n",
            "Número de tijolo:  7\n",
            "Número de tijolo:  8\n",
            "Número de tijolo:  9\n",
            "Número de tijolo:  10\n",
            "Número de tijolo:  11\n",
            "Número de tijolo:  12\n",
            "Número de tijolo:  13\n",
            "Número de tijolo:  14\n",
            "Número de tijolo:  15\n",
            "Número de tijolo:  16\n",
            "Número de tijolo:  17\n",
            "Número de tijolo:  18\n",
            "Número de tijolo:  19\n",
            "Número de tijolo:  20\n",
            "Número de tijolo:  21\n",
            "Número de tijolo:  22\n",
            "Número de tijolo:  23\n",
            "Número de tijolo:  24\n",
            "Número de tijolo:  25\n",
            "Número de tijolo:  26\n",
            "Número de tijolo:  27\n",
            "Número de tijolo:  28\n",
            "Número de tijolo:  29\n",
            "Número de tijolo:  30\n",
            "Número de tijolo:  31\n",
            "Número de tijolo:  32\n",
            "Número de tijolo:  33\n",
            "Número de tijolo:  34\n",
            "Número de tijolo:  35\n",
            "Número de tijolo:  36\n",
            "Número de tijolo:  37\n",
            "Número de tijolo:  38\n",
            "Número de tijolo:  39\n",
            "Número de tijolo:  40\n",
            "Número de tijolo:  41\n",
            "Número de tijolo:  42\n",
            "Número de tijolo:  43\n",
            "Número de tijolo:  44\n",
            "Número de tijolo:  45\n",
            "Número de tijolo:  46\n",
            "Número de tijolo:  47\n",
            "Número de tijolo:  48\n",
            "Número de tijolo:  49\n",
            "Número de tijolo:  50\n",
            "Número de tijolo:  51\n",
            "Número de tijolo:  52\n",
            "Número de tijolo:  53\n",
            "Número de tijolo:  54\n",
            "Número de tijolo:  55\n",
            "Número de tijolo:  56\n",
            "Número de tijolo:  57\n",
            "Número de tijolo:  58\n",
            "Número de tijolo:  59\n",
            "Número de tijolo:  60\n",
            "Número de tijolo:  61\n",
            "Número de tijolo:  62\n",
            "Número de tijolo:  63\n",
            "Número de tijolo:  64\n",
            "Número de tijolo:  65\n",
            "Número de tijolo:  66\n",
            "Número de tijolo:  67\n",
            "Número de tijolo:  68\n",
            "Número de tijolo:  69\n",
            "Número de tijolo:  70\n",
            "Número de tijolo:  71\n",
            "Número de tijolo:  72\n",
            "Número de tijolo:  73\n",
            "Número de tijolo:  74\n",
            "Número de tijolo:  75\n",
            "Número de tijolo:  76\n",
            "Número de tijolo:  77\n",
            "Número de tijolo:  78\n",
            "Número de tijolo:  79\n",
            "Número de tijolo:  80\n",
            "Número de tijolo:  81\n",
            "Número de tijolo:  82\n",
            "Número de tijolo:  83\n",
            "Número de tijolo:  84\n",
            "Número de tijolo:  85\n",
            "Número de tijolo:  86\n",
            "Número de tijolo:  87\n",
            "Número de tijolo:  88\n",
            "Número de tijolo:  89\n",
            "Número de tijolo:  90\n",
            "Número de tijolo:  91\n",
            "Número de tijolo:  92\n",
            "Número de tijolo:  93\n",
            "Número de tijolo:  94\n",
            "Número de tijolo:  95\n",
            "Número de tijolo:  96\n",
            "Número de tijolo:  97\n",
            "Número de tijolo:  98\n",
            "Número de tijolo:  99\n",
            "Número de tijolo:  100\n"
          ]
        }
      ]
    },
    {
      "cell_type": "code",
      "source": [
        "#2. Um pintor pinta postes de luz e pinta apenas os de número par. Mostre quais postes de 1 a 50 ele irá pintar."
      ],
      "metadata": {
        "id": "4dfMfcjlFVzg"
      },
      "execution_count": null,
      "outputs": []
    }
  ],
  "metadata": {
    "colab": {
      "toc_visible": true,
      "provenance": [],
      "include_colab_link": true
    },
    "kernelspec": {
      "display_name": "Python 3",
      "name": "python3"
    }
  },
  "nbformat": 4,
  "nbformat_minor": 0
}